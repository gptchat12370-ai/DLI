{
  "nbformat": 4,
  "nbformat_minor": 0,
  "metadata": {
    "colab": {
      "provenance": [],
      "authorship_tag": "ABX9TyOSdOfLtC9/vaHf0sjYxwh6",
      "include_colab_link": true
    },
    "kernelspec": {
      "name": "python3",
      "display_name": "Python 3"
    },
    "language_info": {
      "name": "python"
    }
  },
  "cells": [
    {
      "cell_type": "markdown",
      "metadata": {
        "id": "view-in-github",
        "colab_type": "text"
      },
      "source": [
        "<a href=\"https://colab.research.google.com/github/gptchat12370-ai/DLI/blob/main/4_evaluation_code.ipynb\" target=\"_parent\"><img src=\"https://colab.research.google.com/assets/colab-badge.svg\" alt=\"Open In Colab\"/></a>"
      ]
    },
    {
      "cell_type": "code",
      "execution_count": 1,
      "metadata": {
        "id": "9zmDsLDng-_Y",
        "colab": {
          "base_uri": "https://localhost:8080/"
        },
        "outputId": "222d3336-8867-4496-c8e1-02b5628adc10"
      },
      "outputs": [
        {
          "output_type": "stream",
          "name": "stderr",
          "text": [
            "WARNING:absl:Compiled the loaded model, but the compiled metrics have yet to be built. `model.compile_metrics` will be empty until you train or evaluate the model.\n"
          ]
        },
        {
          "output_type": "stream",
          "name": "stdout",
          "text": [
            "\u001b[1m321/321\u001b[0m \u001b[32m━━━━━━━━━━━━━━━━━━━━\u001b[0m\u001b[37m\u001b[0m \u001b[1m9s\u001b[0m 28ms/step\n",
            "Predictions generated. Sample: [0 0 0 0 1 1 0 1 1 0]\n"
          ]
        }
      ],
      "source": [
        "# --- Commit 1: Loaded model and made predictions ---\n",
        "\n",
        "# 1. Setup\n",
        "import numpy as np\n",
        "from tensorflow.keras.models import load_model\n",
        "\n",
        "# Load model and test data\n",
        "model = load_model(\"/content/data/phishing_model.h5\")\n",
        "X_test = np.load(\"/content/data/X_test.npy\")\n",
        "y_test = np.load(\"/content/data/y_test.npy\")\n",
        "\n",
        "# Predict\n",
        "y_pred_prob = model.predict(X_test)\n",
        "y_pred = (y_pred_prob > 0.5).astype(int)\n",
        "\n",
        "print(\"Predictions generated. Sample:\", y_pred[:10].flatten())"
      ]
    }
  ]
}