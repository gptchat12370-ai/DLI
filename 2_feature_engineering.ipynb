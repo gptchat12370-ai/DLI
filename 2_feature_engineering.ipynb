{
  "nbformat": 4,
  "nbformat_minor": 0,
  "metadata": {
    "colab": {
      "provenance": [],
      "authorship_tag": "ABX9TyMHUBKI/84PIF3mm7Z4SubS",
      "include_colab_link": true
    },
    "kernelspec": {
      "name": "python3",
      "display_name": "Python 3"
    },
    "language_info": {
      "name": "python"
    }
  },
  "cells": [
    {
      "cell_type": "markdown",
      "metadata": {
        "id": "view-in-github",
        "colab_type": "text"
      },
      "source": [
        "<a href=\"https://colab.research.google.com/github/shihab1/DLI/blob/main/2_feature_engineering.ipynb\" target=\"_parent\"><img src=\"https://colab.research.google.com/assets/colab-badge.svg\" alt=\"Open In Colab\"/></a>"
      ]
    },
    {
      "cell_type": "code",
      "execution_count": 1,
      "metadata": {
        "id": "ikl4ZNFOhTbA",
        "colab": {
          "base_uri": "https://localhost:8080/"
        },
        "outputId": "8a9d5fab-e4fc-4507-c6dd-6d60780910fe"
      },
      "outputs": [
        {
          "output_type": "stream",
          "name": "stdout",
          "text": [
            "Cloning into 'DLI'...\n",
            "remote: Enumerating objects: 6, done.\u001b[K\n",
            "remote: Counting objects: 100% (6/6), done.\u001b[K\n",
            "remote: Compressing objects: 100% (4/4), done.\u001b[K\n",
            "remote: Total 6 (delta 0), reused 0 (delta 0), pack-reused 0 (from 0)\u001b[K\n",
            "Receiving objects: 100% (6/6), 8.30 KiB | 1.19 MiB/s, done.\n",
            "/content/DLI\n"
          ]
        }
      ],
      "source": [
        "!git config --global user.email \"almnaryb139@gmail.com\"\n",
        "!git config --global user.name \"shihab1\"\n",
        "\n",
        "!git clone https://github.com/shihab1/DLI.git\n",
        "%cd DLI"
      ]
    },
    {
      "cell_type": "code",
      "source": [
        "# --- Commit 1: Text cleaning and preprocessing ---\n",
        "\n",
        "# 1. Setup\n",
        "import pandas as pd\n",
        "import numpy as np\n",
        "import re\n",
        "import nltk\n",
        "nltk.download('stopwords')\n",
        "from nltk.corpus import stopwords\n",
        "\n",
        "stop_words = set(stopwords.words('english'))\n",
        "\n",
        "# 2. Data Loading\n",
        "df = pd.read_csv(\"/content/data/cleaned_data.csv\")\n",
        "\n",
        "# 3. Preprocessing - Merge subject and body\n",
        "df['text'] = df['subject'].fillna('') + ' ' + df['body'].fillna('')\n",
        "\n",
        "# Clean text\n",
        "def clean_text(text):\n",
        "    text = text.lower()\n",
        "    text = re.sub(r'[^a-zA-Z\\s]', '', text)\n",
        "    text = ' '.join([word for word in text.split() if word not in stop_words])\n",
        "    return text\n",
        "\n",
        "df['clean_text'] = df['text'].apply(clean_text)\n",
        "print(df[['text', 'clean_text']].head())"
      ],
      "metadata": {
        "colab": {
          "base_uri": "https://localhost:8080/"
        },
        "id": "Ynz3Fu5BOgdy",
        "outputId": "642de188-c0c3-463f-f952-3a0a028727e8"
      },
      "execution_count": 3,
      "outputs": [
        {
          "output_type": "stream",
          "name": "stderr",
          "text": [
            "[nltk_data] Downloading package stopwords to /root/nltk_data...\n",
            "[nltk_data]   Package stopwords is already up-to-date!\n"
          ]
        },
        {
          "output_type": "stream",
          "name": "stdout",
          "text": [
            "                                                text  \\\n",
            "0  FW: June 29 -- BNA, Inc. Daily Labor Report Us...   \n",
            "1  NGX failover plan. Hi Chris, Tonight we are ro...   \n",
            "2  RE: Intranet Site Rika r these new? -----Origi...   \n",
            "3  FW: ENA Upstream Company information John/Gera...   \n",
            "4  New Master Physical Gerald and Stacy - Attache...   \n",
            "\n",
            "                                          clean_text  \n",
            "0  fw june bna inc daily labor report user id enr...  \n",
            "1  ngx failover plan hi chris tonight rolling new...  \n",
            "2  intranet site rika r new original message thom...  \n",
            "3  fw ena upstream company information johngerald...  \n",
            "4  new master physical gerald stacy attached work...  \n"
          ]
        }
      ]
    },
    {
      "cell_type": "code",
      "source": [
        "# --- Commit 2: Tokenization and sequence preparation ---\n",
        "\n",
        "# 4. Tokenization and Padding\n",
        "from tensorflow.keras.preprocessing.text import Tokenizer\n",
        "from tensorflow.keras.preprocessing.sequence import pad_sequences\n",
        "import pickle\n",
        "import os\n",
        "\n",
        "# Ensure target directory exists\n",
        "os.makedirs(\"/content/data\", exist_ok=True)\n",
        "\n",
        "# Tokenization\n",
        "tokenizer = Tokenizer(num_words=10000, oov_token=\"<OOV>\")\n",
        "tokenizer.fit_on_texts(df['clean_text'])\n",
        "\n",
        "sequences = tokenizer.texts_to_sequences(df['clean_text'])\n",
        "X = pad_sequences(sequences, maxlen=200)\n",
        "\n",
        "# Save tokenizer to /content/data\n",
        "with open(\"/content/data/tokenizer.pkl\", \"wb\") as f:\n",
        "    pickle.dump(tokenizer, f)\n",
        "\n",
        "print(\"Tokenizer saved to /content/data/tokenizer.pkl\")\n",
        "print(\"Sample tokenized sequence:\", sequences[0])\n",
        "print(\"Padded shape:\", X.shape)"
      ],
      "metadata": {
        "colab": {
          "base_uri": "https://localhost:8080/"
        },
        "id": "VAskOILFhIGI",
        "outputId": "58fafe7d-938c-4e1d-f9c4-181aec8d3a2e"
      },
      "execution_count": 4,
      "outputs": [
        {
          "output_type": "stream",
          "name": "stdout",
          "text": [
            "Tokenizer saved to /content/data/tokenizer.pkl\n",
            "Sample tokenized sequence: [62, 593, 4153, 29, 261, 1960, 32, 703, 359, 1, 1, 1, 10, 3, 4153, 2814, 8, 83, 593, 18, 4153, 2814, 7, 593, 4153, 29, 261, 1960, 32, 261, 1960, 32, 2814, 985, 1476, 593, 7893, 621, 226, 1069, 159, 297, 1337, 2237, 375, 2070, 389, 5313, 16, 2769, 2939, 2793, 36, 226, 1973, 88, 1, 47, 4153, 290, 1744, 1850, 1750, 18, 1298, 2814, 1398, 4017, 1, 7435, 668, 8926, 2606, 2799, 207, 930, 56, 8926, 2799, 8806, 1, 8754, 1170, 1, 1472, 448, 3098, 7070, 1960, 1898, 1834, 2628, 4017, 770, 1, 377, 1960, 1744, 330, 668, 1, 9821, 1, 1, 1911, 29, 503, 7435, 1398, 6209, 330, 574, 8926, 2606, 2799, 1, 9821, 1, 1277, 1911, 29, 1, 312, 2965, 221, 377, 1960, 1744, 262, 330, 3322, 420, 4367, 574, 1485, 461, 1, 312, 1, 3002, 718, 4971, 1, 1, 210, 1834, 1, 1203, 207, 3052, 545, 4636, 8020, 3993, 903, 1, 5010, 138, 9, 4367, 93, 138, 545, 9541, 3721, 348, 7550, 1, 8754, 1170, 7070, 1960, 488, 4348, 461, 1353, 1, 312, 2965, 221, 1435, 1, 4636, 1, 2115, 311, 3581, 2606, 326, 20, 122, 247, 3581, 1192, 330, 336, 14, 1, 1, 1105, 4310, 1422, 296, 3406, 1337, 149, 1, 1, 8926, 1, 1430, 1, 843, 1, 8807, 698, 290, 44, 7247, 5216, 21, 5, 4006, 1, 1430, 122, 530, 1, 753, 371, 1274, 2886, 1, 5991, 2537, 1, 262, 5028, 4017, 770, 3994, 503, 1203, 232, 21, 378, 110, 6209, 8157, 3994, 1200, 575, 3168, 830, 262, 505, 6228, 1430, 37, 1, 774, 1020, 290, 178, 1180, 17, 340, 1, 1435, 1, 4636, 1, 940, 4782, 1203, 232, 21, 378, 1, 23, 4636, 3994, 1, 564, 2653, 4588, 544, 381, 3466, 2440, 2095, 1, 17, 1, 1, 21, 1143, 37, 7691, 1110, 5668, 343, 296, 1, 1, 1, 1751, 1, 771, 1, 1, 377, 1960, 3495, 415, 413, 1, 1960, 3610, 413, 1, 1523, 1, 1751, 771, 1, 1483, 1586, 1, 624, 1707, 547, 706, 682, 202, 1386, 19, 1, 11, 31, 5043, 1, 772, 38, 3689, 4478, 9343, 528, 1, 705, 1751, 593, 1, 123, 12, 945, 148, 1, 1523, 1, 8158, 7775, 624, 1, 82, 396, 135, 2832, 1, 1, 7660, 3593, 461, 1, 123, 822, 3203, 1, 99, 296, 256, 1, 9, 142, 316, 5907, 1, 7594, 616, 545, 4636, 367, 81, 7894, 436, 1973, 545, 1, 1, 40, 2205, 8711, 1, 4225, 1457, 9, 142, 316, 1, 1, 1, 1, 1, 4225, 5385, 1927, 221, 1, 1, 503, 9, 142, 316, 1, 1, 1, 1, 5647, 1, 1, 202, 1435, 3299, 13, 1834, 545, 1245, 1834, 9, 142, 1, 1, 1457, 1, 4225, 545, 9541, 5385, 9197, 783, 7033, 1, 1, 1200, 74, 1006, 9, 142, 3021, 3884, 3947, 198, 2632, 1, 1, 1, 1806, 545, 23, 9541, 5385, 1, 2976, 1, 3947, 296, 1, 1, 1, 4769, 2161, 1, 209, 1, 1, 1592, 167, 1, 1, 6614, 593, 6444, 209, 329, 449, 1, 1, 695, 1, 4769, 6549, 246, 78, 23, 4769, 177, 1, 1, 695, 1, 1, 1, 695, 1, 753, 1, 779, 5777, 1, 6716, 1253, 512, 593, 1485, 2161, 172, 1, 219, 303, 766, 1166, 3172, 1026, 4367, 653, 6549, 40, 433, 1, 128, 219, 1, 5622, 1, 2588, 505, 1, 303, 653, 1, 886, 5622, 954, 9470, 1, 4187, 1656, 575, 1, 303, 1432, 1, 420, 2976, 1, 1707, 1, 202, 1, 433, 1673, 1656, 3334, 22, 5622, 603, 1166, 3172, 433, 1, 1, 733, 172, 5622, 603, 1166, 3172, 296, 107, 1, 1, 1, 6256, 4588, 1934, 448, 24, 682, 6775, 2546, 1, 1330, 847, 7847, 1046, 6256, 1934, 4770, 4175, 6640, 371, 7692, 144, 342, 590, 1, 4770, 1338, 202, 206, 1269, 4770, 1830, 1934, 1934, 286, 6941, 1, 774, 1560, 590, 1105, 1, 1, 4620, 1, 3022, 514, 595, 1, 281, 1934, 1827, 2075, 38, 144, 1, 1, 163, 144, 3843, 97, 277, 1, 1441, 281, 4770, 493, 639, 3393, 627, 2287, 486, 1433, 940, 1, 3875, 1, 2298, 122, 1287, 1338, 281, 6107, 196, 1623, 183, 1, 4588, 4992, 1, 3875, 1, 1338, 281, 296, 1, 676, 385, 1, 420, 3660, 3515, 1899, 237, 81, 408, 1156, 2566, 515, 23, 42, 4972, 6365, 1, 1960, 27, 77, 3830, 1, 385, 77, 1668, 999, 2484, 598, 81, 539, 355, 38, 558, 1, 385, 693, 11, 2399, 999, 234, 1668, 296, 1, 5835, 1288, 9, 1, 786, 931, 148, 1410, 887, 404, 4323, 24, 1, 6162, 234, 24, 2449, 593, 296, 1, 847, 951, 312, 426, 1065, 9676, 1, 177, 639, 1, 415, 232, 550, 3042, 544, 1, 372, 346, 610, 78, 296, 1, 1690, 433, 908, 6549, 3852, 1668, 8249, 7733, 222, 3147, 6741, 705, 1751, 682, 9, 7216, 92, 8249, 7733, 222, 378, 296, 1, 1337, 7070, 1960, 1898, 1834, 2628, 4017, 668, 1, 9821, 1, 1277, 1911, 29, 503, 7435, 296, 149, 1, 985, 1476, 957, 42, 7070, 1960, 1898, 1, 7435, 1398, 4017, 4636, 207, 930, 8926, 2799, 8806, 1, 8754, 1170, 1, 1472, 448, 3098, 7070, 1960, 1898, 296, 3406, 1337, 149, 1, 1, 42, 1, 5028, 4017, 770, 698, 290, 44, 7247, 5216, 21, 5, 4006, 1, 1430, 122, 530, 532, 753, 371, 1200, 2886, 3168, 830, 8807, 296, 1, 5583, 528, 1, 494, 919, 1751, 265, 1478, 12, 947, 7278, 1987, 3421, 436, 6081, 100, 572, 2108, 2423, 525, 12, 7468, 774, 1987, 1, 2287, 296, 1, 858, 1497, 1, 1535, 1724, 4636, 207, 2752, 1, 558, 153, 491, 1, 3542, 540, 467, 569, 296, 1, 1690, 433, 908, 6549, 3852, 1668, 1751, 682, 9, 7216, 92, 8249, 7733, 222, 378, 296, 1, 847, 951, 1193, 3617, 1, 2108, 3704, 6470, 265, 221, 2182, 2520, 1, 122, 265, 441, 1193, 25, 363, 1656, 1, 296, 1, 847, 951, 312, 1, 1, 544, 1, 246, 653, 426, 1065, 9676, 1, 177, 639, 1, 415, 232, 296, 1, 1, 4896, 284, 330, 4636, 567, 1960, 1749, 11, 1, 1266, 720, 887, 2661, 331, 1449, 204, 219, 296, 1, 1330, 847, 1241, 281, 1960, 515, 43, 124, 6058, 1255, 2115, 2905, 133, 40, 1, 381, 1226, 843, 3875, 1, 296, 1, 1, 1753, 682, 2546, 1046, 6256, 1934, 3213, 371, 7692, 144, 4770, 342, 590, 1, 4770, 296, 1, 1579, 4636, 6776, 3046, 1, 2353, 312, 544, 357, 1108, 1, 847, 296, 1, 2072, 5583, 5028, 4017, 1, 3300, 940, 4782, 4588, 5778, 482, 2223, 2038, 2998, 244, 1111, 2632, 1200, 2886, 7937, 1, 2984, 2595, 1, 296, 1, 2205, 8711, 436, 1435, 1, 1, 1457, 40, 1, 4225, 9, 142, 316, 316, 1, 1, 1, 1, 1927, 221, 1, 296, 1, 1968, 8357, 1968, 415, 1, 1359, 7734, 8592, 92, 2940, 1668, 156, 1, 6849, 4043, 296, 1, 210, 299, 209, 960, 1, 528, 3617, 1, 2407, 528, 7735, 2408, 1255, 761, 210, 296, 1, 5483, 4973, 112, 1, 378, 1753, 338, 665, 1, 5483, 415, 232, 219, 1593, 296, 1, 250, 32, 847, 951, 312, 1, 420, 1046, 377, 1960, 3495, 415, 413, 1, 1960, 3610, 413, 1, 1523, 1751, 1, 771, 1, 296, 256, 1, 6614, 32, 1, 1, 1, 8875, 6444, 209, 329, 449, 1, 1, 695, 1, 6549, 246, 78, 1, 1, 1592, 296, 107, 1, 858, 42, 4972, 1960, 3884, 2742, 1960, 3661, 295, 77, 3830, 1, 385, 77, 1668, 999, 2484, 598, 81, 539, 355, 38, 558, 41, 38, 6365, 1, 1960, 27, 296, 1, 5835, 1288, 1960, 3884, 2287, 1473, 1255, 295, 9, 5835, 1288, 786, 931, 148, 1410, 887, 404, 4323, 24, 1, 6162, 234, 24, 2449, 593, 296, 1, 1337, 7070, 1960, 1898, 1834, 2628, 4017, 668, 1, 9821, 1, 1277, 1911, 29, 503, 7435, 296, 149, 1, 985, 2171, 1, 9821, 1, 1, 1911, 29, 503, 7435, 1398, 6209, 296, 3406, 1337, 149, 1, 1, 3994, 503, 1203, 232, 21, 378, 110, 6209, 296, 1, 1, 503, 8159, 3508, 1, 29, 110, 6209, 296, 1, 1, 503, 9, 142, 316, 1, 296, 1, 261, 1960, 32, 7893, 2814, 853, 261, 2742, 377, 1352, 29, 110, 333, 2763, 474, 1398, 129, 16, 320, 58, 1, 18, 1298, 191, 6471, 138, 464, 9135, 1573, 58, 6, 1, 217, 3831, 43, 1, 217, 107, 2742, 377, 1352, 29, 474, 1398, 39, 44, 7, 268, 690, 1999, 99, 4153, 3348, 159, 448, 678]\n",
            "Padded shape: (51264, 200)\n"
          ]
        }
      ]
    },
    {
      "cell_type": "code",
      "source": [
        "# --- Commit 3: Label preparation and saving features ---\n",
        "\n",
        "# 5. Label preparation\n",
        "y = df['label'].astype(int).values\n",
        "\n",
        "# 6. Train-Test Split\n",
        "from sklearn.model_selection import train_test_split\n",
        "\n",
        "X_train, X_test, y_train, y_test = train_test_split(\n",
        "    X, y, test_size=0.2, random_state=42)\n",
        "\n",
        "# 7. Save features\n",
        "np.save(\"data/X_train.npy\", X_train)\n",
        "np.save(\"data/X_test.npy\", X_test)\n",
        "np.save(\"data/y_train.npy\", y_train)\n",
        "np.save(\"data/y_test.npy\", y_test)\n",
        "\n",
        "print(\"Saved X_train.npy, X_test.npy, y_train.npy, y_test.npy\")\n",
        "print(\"X_train shape:\", X_train.shape)\n",
        "print(\"y_train distribution:\", np.bincount(y_train))\n"
      ],
      "metadata": {
        "colab": {
          "base_uri": "https://localhost:8080/"
        },
        "id": "zza6p-ngiM3h",
        "outputId": "f5d6735c-fd6e-4a38-f764-5152bd3cfdfc"
      },
      "execution_count": 4,
      "outputs": [
        {
          "output_type": "stream",
          "name": "stdout",
          "text": [
            "Saved X_train.npy, X_test.npy, y_train.npy, y_test.npy\n",
            "X_train shape: (41011, 200)\n",
            "y_train distribution: [24340 16671]\n"
          ]
        }
      ]
    }
  ]
}