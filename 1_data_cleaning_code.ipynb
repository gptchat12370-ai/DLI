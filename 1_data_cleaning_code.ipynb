{
  "nbformat": 4,
  "nbformat_minor": 0,
  "metadata": {
    "colab": {
      "provenance": [],
      "authorship_tag": "ABX9TyOyrH/Ahfdfvzso4nbgtB0E",
      "include_colab_link": true
    },
    "kernelspec": {
      "name": "python3",
      "display_name": "Python 3"
    },
    "language_info": {
      "name": "python"
    }
  },
  "cells": [
    {
      "cell_type": "markdown",
      "metadata": {
        "id": "view-in-github",
        "colab_type": "text"
      },
      "source": [
        "<a href=\"https://colab.research.google.com/github/mohamedseklani/DLI/blob/main/1_data_cleaning_code.ipynb\" target=\"_parent\"><img src=\"https://colab.research.google.com/assets/colab-badge.svg\" alt=\"Open In Colab\"/></a>"
      ]
    },
    {
      "cell_type": "code",
      "execution_count": 2,
      "metadata": {
        "id": "mgnPH8pHinoa",
        "colab": {
          "base_uri": "https://localhost:8080/"
        },
        "outputId": "663e28be-aa3f-4b14-e8db-d8c33156eb05"
      },
      "outputs": [
        {
          "output_type": "stream",
          "name": "stdout",
          "text": [
            "fatal: destination path 'DLI' already exists and is not an empty directory.\n",
            "/content/DLI\n"
          ]
        }
      ],
      "source": [
        "!git config --global user.email \"mohamedseklani8@gmail.com\"\n",
        "!git config --global user.name \"mohamedseklani\"\n",
        "\n",
        "!git clone https://github.com/mohamedseklani/DLI\n",
        "%cd DLI"
      ]
    },
    {
      "cell_type": "code",
      "source": [
        "# --- Commit 1: Initial load and null cleanup ---\n",
        "\n",
        "# 1) Setup\n",
        "import pandas as pd\n",
        "import numpy as np\n",
        "import csv, sys\n",
        "\n",
        "# Increase limit for very long email bodies\n",
        "csv.field_size_limit(sys.maxsize)\n",
        "\n",
        "# Pandas display settings\n",
        "pd.set_option('display.max_columns', None)\n",
        "\n",
        "# 2) Data Loading (robust)\n",
        "# Using on_bad_lines='skip' instead of deprecated error_bad_lines\n",
        "df = pd.read_csv(\n",
        "    \"/content/DLI/TREC-05.csv\",  # <-- adjust path to your file\n",
        "    engine=\"python\",\n",
        "    on_bad_lines=\"skip\",\n",
        "    sep=None,  # autodetect delimiter\n",
        "    encoding=\"utf-8\",\n",
        "    encoding_errors=\"replace\",  # handle weird characters\n",
        "    dtype=str  # read all as string first\n",
        ")\n",
        "\n",
        "print(\"Initial Shape:\", df.shape)\n",
        "print(df.isnull().sum())\n",
        "\n",
        "# 3) Preprocessing - Remove nulls in key columns\n",
        "# Convert label and urls to numeric (coerce errors to NaN)\n",
        "if \"label\" in df.columns:\n",
        "    df[\"label\"] = pd.to_numeric(df[\"label\"], errors=\"coerce\")\n",
        "if \"urls\" in df.columns:\n",
        "    df[\"urls\"] = pd.to_numeric(df[\"urls\"], errors=\"coerce\")\n",
        "\n",
        "# Drop rows where body, subject, or label is missing\n",
        "required_cols = [c for c in [\"body\", \"subject\", \"label\"] if c in df.columns]\n",
        "df.dropna(subset=required_cols, inplace=True)\n",
        "\n",
        "# Fill missing urls with 0 and ensure integer type\n",
        "if \"urls\" in df.columns:\n",
        "    df[\"urls\"] = df[\"urls\"].fillna(0)\n",
        "    df[\"urls\"] = np.maximum(df[\"urls\"].astype(float), 0).astype(int)\n",
        "\n",
        "# Strip extra whitespace from text fields\n",
        "for col in [\"subject\", \"body\"]:\n",
        "    if col in df.columns:\n",
        "        df[col] = df[col].astype(str).str.replace(r\"\\s+\", \" \", regex=True).str.strip()\n",
        "\n",
        "df.reset_index(drop=True, inplace=True)\n",
        "print(\"After cleaning Shape:\", df.shape)"
      ],
      "metadata": {
        "colab": {
          "base_uri": "https://localhost:8080/"
        },
        "id": "zCaLAUMOMjkQ",
        "outputId": "2f7edceb-0195-4b15-f07e-801a06682641"
      },
      "execution_count": 4,
      "outputs": [
        {
          "output_type": "stream",
          "name": "stdout",
          "text": [
            "Initial Shape: (53875, 7)\n",
            "sender        13\n",
            "receiver    2627\n",
            "date        2376\n",
            "subject     2472\n",
            "body        1214\n",
            "label       1341\n",
            "urls        1342\n",
            "dtype: int64\n",
            "After cleaning Shape: (51264, 7)\n"
          ]
        }
      ]
    },
    {
      "cell_type": "code",
      "source": [
        "import os\n",
        "\n",
        "os.makedirs(\"data\", exist_ok=True)\n",
        "os.makedirs(\"notebooks\", exist_ok=True)\n",
        "\n",
        "# Save cleaned CSV inside data/\n",
        "df.to_csv(\"data/cleaned_data.csv\", index=False)"
      ],
      "metadata": {
        "id": "4z25a-kRUZaQ"
      },
      "execution_count": 10,
      "outputs": []
    },
    {
      "cell_type": "code",
      "source": [
        "!git status"
      ],
      "metadata": {
        "colab": {
          "base_uri": "https://localhost:8080/"
        },
        "id": "TIZPzzH1WOiJ",
        "outputId": "46e964e4-1bb6-46e0-c1b3-34219033bd39"
      },
      "execution_count": 13,
      "outputs": [
        {
          "output_type": "stream",
          "name": "stdout",
          "text": [
            "On branch main\n",
            "Your branch is up to date with 'origin/main'.\n",
            "\n",
            "Changes to be committed:\n",
            "  (use \"git restore --staged <file>...\" to unstage)\n",
            "\t\u001b[32mnew file:   data/cleaned_data.csv\u001b[m\n",
            "\n",
            "Untracked files:\n",
            "  (use \"git add <file>...\" to include in what will be committed)\n",
            "\t\u001b[31mTREC-05.csv\u001b[m\n",
            "\n"
          ]
        }
      ]
    }
  ]
}